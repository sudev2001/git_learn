{
 "cells": [
  {
   "cell_type": "raw",
   "id": "e94c88f0",
   "metadata": {},
   "source": [
    "import numpy as np"
   ]
  },
  {
   "cell_type": "code",
   "execution_count": 3,
   "id": "f6609e66",
   "metadata": {},
   "outputs": [
    {
     "data": {
      "text/plain": [
       "array([1, 2, 3, 4, 5, 6])"
      ]
     },
     "execution_count": 3,
     "metadata": {},
     "output_type": "execute_result"
    }
   ],
   "source": [
    "a=[[1,2,3],[4,5,6]]\n",
    "np.ravel(a)"
   ]
  },
  {
   "cell_type": "code",
   "execution_count": 6,
   "id": "482e4525",
   "metadata": {},
   "outputs": [
    {
     "data": {
      "text/plain": [
       "array([1, 2, 3, 4, 5, 6])"
      ]
     },
     "execution_count": 6,
     "metadata": {},
     "output_type": "execute_result"
    }
   ],
   "source": [
    "a=np.array([[1,2,3],[4,5,6]])\n",
    "a.flatten()"
   ]
  },
  {
   "cell_type": "code",
   "execution_count": 9,
   "id": "b31aa533",
   "metadata": {},
   "outputs": [
    {
     "name": "stdout",
     "output_type": "stream",
     "text": [
      "Collecting jupyter-tabnineNote: you may need to restart the kernel to use updated packages.\n"
     ]
    },
    {
     "name": "stderr",
     "output_type": "stream",
     "text": [
      "\n",
      "[notice] A new release of pip available: 22.3.1 -> 23.1.2\n",
      "[notice] To update, run: python.exe -m pip install --upgrade pip\n"
     ]
    },
    {
     "name": "stdout",
     "output_type": "stream",
     "text": [
      "\n",
      "  Downloading jupyter_tabnine-1.2.3-py2.py3-none-any.whl (21 kB)\n",
      "Requirement already satisfied: ipython in d:\\program\\entry_to_ds\\test\\lib\\site-packages (from jupyter-tabnine) (8.13.2)\n",
      "Requirement already satisfied: jupyter-core in d:\\program\\entry_to_ds\\test\\lib\\site-packages (from jupyter-tabnine) (5.3.0)\n",
      "Requirement already satisfied: nbconvert in d:\\program\\entry_to_ds\\test\\lib\\site-packages (from jupyter-tabnine) (7.4.0)\n",
      "Requirement already satisfied: notebook>=4.2 in d:\\program\\entry_to_ds\\test\\lib\\site-packages (from jupyter-tabnine) (6.5.4)\n",
      "Requirement already satisfied: jinja2 in d:\\program\\entry_to_ds\\test\\lib\\site-packages (from notebook>=4.2->jupyter-tabnine) (3.1.2)\n",
      "Requirement already satisfied: tornado>=6.1 in d:\\program\\entry_to_ds\\test\\lib\\site-packages (from notebook>=4.2->jupyter-tabnine) (6.3.2)\n",
      "Requirement already satisfied: pyzmq>=17 in d:\\program\\entry_to_ds\\test\\lib\\site-packages (from notebook>=4.2->jupyter-tabnine) (25.0.2)\n",
      "Requirement already satisfied: argon2-cffi in d:\\program\\entry_to_ds\\test\\lib\\site-packages (from notebook>=4.2->jupyter-tabnine) (21.3.0)\n",
      "Requirement already satisfied: traitlets>=4.2.1 in d:\\program\\entry_to_ds\\test\\lib\\site-packages (from notebook>=4.2->jupyter-tabnine) (5.9.0)\n",
      "Requirement already satisfied: jupyter-client>=5.3.4 in d:\\program\\entry_to_ds\\test\\lib\\site-packages (from notebook>=4.2->jupyter-tabnine) (8.2.0)\n",
      "Requirement already satisfied: ipython-genutils in d:\\program\\entry_to_ds\\test\\lib\\site-packages (from notebook>=4.2->jupyter-tabnine) (0.2.0)\n",
      "Requirement already satisfied: nbformat in d:\\program\\entry_to_ds\\test\\lib\\site-packages (from notebook>=4.2->jupyter-tabnine) (5.8.0)\n",
      "Requirement already satisfied: nest-asyncio>=1.5 in d:\\program\\entry_to_ds\\test\\lib\\site-packages (from notebook>=4.2->jupyter-tabnine) (1.5.6)\n",
      "Requirement already satisfied: ipykernel in d:\\program\\entry_to_ds\\test\\lib\\site-packages (from notebook>=4.2->jupyter-tabnine) (6.23.1)\n",
      "Requirement already satisfied: Send2Trash>=1.8.0 in d:\\program\\entry_to_ds\\test\\lib\\site-packages (from notebook>=4.2->jupyter-tabnine) (1.8.2)\n",
      "Requirement already satisfied: terminado>=0.8.3 in d:\\program\\entry_to_ds\\test\\lib\\site-packages (from notebook>=4.2->jupyter-tabnine) (0.17.1)\n",
      "Requirement already satisfied: prometheus-client in d:\\program\\entry_to_ds\\test\\lib\\site-packages (from notebook>=4.2->jupyter-tabnine) (0.17.0)\n",
      "Requirement already satisfied: nbclassic>=0.4.7 in d:\\program\\entry_to_ds\\test\\lib\\site-packages (from notebook>=4.2->jupyter-tabnine) (1.0.0)\n",
      "Requirement already satisfied: platformdirs>=2.5 in d:\\program\\entry_to_ds\\test\\lib\\site-packages (from jupyter-core->jupyter-tabnine) (3.5.1)\n",
      "Requirement already satisfied: pywin32>=300 in d:\\program\\entry_to_ds\\test\\lib\\site-packages (from jupyter-core->jupyter-tabnine) (306)\n",
      "Requirement already satisfied: beautifulsoup4 in d:\\program\\entry_to_ds\\test\\lib\\site-packages (from nbconvert->jupyter-tabnine) (4.12.2)\n",
      "Requirement already satisfied: bleach in d:\\program\\entry_to_ds\\test\\lib\\site-packages (from nbconvert->jupyter-tabnine) (6.0.0)\n",
      "Requirement already satisfied: defusedxml in d:\\program\\entry_to_ds\\test\\lib\\site-packages (from nbconvert->jupyter-tabnine) (0.7.1)\n",
      "Requirement already satisfied: jupyterlab-pygments in d:\\program\\entry_to_ds\\test\\lib\\site-packages (from nbconvert->jupyter-tabnine) (0.2.2)\n",
      "Requirement already satisfied: markupsafe>=2.0 in d:\\program\\entry_to_ds\\test\\lib\\site-packages (from nbconvert->jupyter-tabnine) (2.1.2)\n",
      "Requirement already satisfied: mistune<3,>=2.0.3 in d:\\program\\entry_to_ds\\test\\lib\\site-packages (from nbconvert->jupyter-tabnine) (2.0.5)\n",
      "Requirement already satisfied: nbclient>=0.5.0 in d:\\program\\entry_to_ds\\test\\lib\\site-packages (from nbconvert->jupyter-tabnine) (0.8.0)\n",
      "Requirement already satisfied: packaging in d:\\program\\entry_to_ds\\test\\lib\\site-packages (from nbconvert->jupyter-tabnine) (23.1)\n",
      "Requirement already satisfied: pandocfilters>=1.4.1 in d:\\program\\entry_to_ds\\test\\lib\\site-packages (from nbconvert->jupyter-tabnine) (1.5.0)\n",
      "Requirement already satisfied: pygments>=2.4.1 in d:\\program\\entry_to_ds\\test\\lib\\site-packages (from nbconvert->jupyter-tabnine) (2.15.1)\n",
      "Requirement already satisfied: tinycss2 in d:\\program\\entry_to_ds\\test\\lib\\site-packages (from nbconvert->jupyter-tabnine) (1.2.1)\n",
      "Requirement already satisfied: backcall in d:\\program\\entry_to_ds\\test\\lib\\site-packages (from ipython->jupyter-tabnine) (0.2.0)\n",
      "Requirement already satisfied: decorator in d:\\program\\entry_to_ds\\test\\lib\\site-packages (from ipython->jupyter-tabnine) (5.1.1)\n",
      "Requirement already satisfied: jedi>=0.16 in d:\\program\\entry_to_ds\\test\\lib\\site-packages (from ipython->jupyter-tabnine) (0.18.2)\n",
      "Requirement already satisfied: matplotlib-inline in d:\\program\\entry_to_ds\\test\\lib\\site-packages (from ipython->jupyter-tabnine) (0.1.6)\n",
      "Requirement already satisfied: pickleshare in d:\\program\\entry_to_ds\\test\\lib\\site-packages (from ipython->jupyter-tabnine) (0.7.5)\n",
      "Requirement already satisfied: prompt-toolkit!=3.0.37,<3.1.0,>=3.0.30 in d:\\program\\entry_to_ds\\test\\lib\\site-packages (from ipython->jupyter-tabnine) (3.0.38)\n",
      "Requirement already satisfied: stack-data in d:\\program\\entry_to_ds\\test\\lib\\site-packages (from ipython->jupyter-tabnine) (0.6.2)\n",
      "Requirement already satisfied: colorama in d:\\program\\entry_to_ds\\test\\lib\\site-packages (from ipython->jupyter-tabnine) (0.4.6)\n",
      "Requirement already satisfied: parso<0.9.0,>=0.8.0 in d:\\program\\entry_to_ds\\test\\lib\\site-packages (from jedi>=0.16->ipython->jupyter-tabnine) (0.8.3)\n",
      "Requirement already satisfied: python-dateutil>=2.8.2 in d:\\program\\entry_to_ds\\test\\lib\\site-packages (from jupyter-client>=5.3.4->notebook>=4.2->jupyter-tabnine) (2.8.2)\n",
      "Requirement already satisfied: jupyter-server>=1.8 in d:\\program\\entry_to_ds\\test\\lib\\site-packages (from nbclassic>=0.4.7->notebook>=4.2->jupyter-tabnine) (2.5.0)\n",
      "Requirement already satisfied: notebook-shim>=0.2.3 in d:\\program\\entry_to_ds\\test\\lib\\site-packages (from nbclassic>=0.4.7->notebook>=4.2->jupyter-tabnine) (0.2.3)\n",
      "Requirement already satisfied: fastjsonschema in d:\\program\\entry_to_ds\\test\\lib\\site-packages (from nbformat->notebook>=4.2->jupyter-tabnine) (2.17.1)\n",
      "Requirement already satisfied: jsonschema>=2.6 in d:\\program\\entry_to_ds\\test\\lib\\site-packages (from nbformat->notebook>=4.2->jupyter-tabnine) (4.17.3)\n",
      "Requirement already satisfied: wcwidth in d:\\program\\entry_to_ds\\test\\lib\\site-packages (from prompt-toolkit!=3.0.37,<3.1.0,>=3.0.30->ipython->jupyter-tabnine) (0.2.6)\n",
      "Requirement already satisfied: pywinpty>=1.1.0 in d:\\program\\entry_to_ds\\test\\lib\\site-packages (from terminado>=0.8.3->notebook>=4.2->jupyter-tabnine) (2.0.10)\n",
      "Requirement already satisfied: argon2-cffi-bindings in d:\\program\\entry_to_ds\\test\\lib\\site-packages (from argon2-cffi->notebook>=4.2->jupyter-tabnine) (21.2.0)\n",
      "Requirement already satisfied: soupsieve>1.2 in d:\\program\\entry_to_ds\\test\\lib\\site-packages (from beautifulsoup4->nbconvert->jupyter-tabnine) (2.4.1)\n",
      "Requirement already satisfied: six>=1.9.0 in d:\\program\\entry_to_ds\\test\\lib\\site-packages (from bleach->nbconvert->jupyter-tabnine) (1.16.0)\n",
      "Requirement already satisfied: webencodings in d:\\program\\entry_to_ds\\test\\lib\\site-packages (from bleach->nbconvert->jupyter-tabnine) (0.5.1)\n",
      "Requirement already satisfied: comm>=0.1.1 in d:\\program\\entry_to_ds\\test\\lib\\site-packages (from ipykernel->notebook>=4.2->jupyter-tabnine) (0.1.3)\n",
      "Requirement already satisfied: debugpy>=1.6.5 in d:\\program\\entry_to_ds\\test\\lib\\site-packages (from ipykernel->notebook>=4.2->jupyter-tabnine) (1.6.7)\n",
      "Requirement already satisfied: psutil in d:\\program\\entry_to_ds\\test\\lib\\site-packages (from ipykernel->notebook>=4.2->jupyter-tabnine) (5.9.5)\n",
      "Requirement already satisfied: executing>=1.2.0 in d:\\program\\entry_to_ds\\test\\lib\\site-packages (from stack-data->ipython->jupyter-tabnine) (1.2.0)\n",
      "Requirement already satisfied: asttokens>=2.1.0 in d:\\program\\entry_to_ds\\test\\lib\\site-packages (from stack-data->ipython->jupyter-tabnine) (2.2.1)\n",
      "Requirement already satisfied: pure-eval in d:\\program\\entry_to_ds\\test\\lib\\site-packages (from stack-data->ipython->jupyter-tabnine) (0.2.2)\n",
      "Requirement already satisfied: attrs>=17.4.0 in d:\\program\\entry_to_ds\\test\\lib\\site-packages (from jsonschema>=2.6->nbformat->notebook>=4.2->jupyter-tabnine) (23.1.0)\n",
      "Requirement already satisfied: pyrsistent!=0.17.0,!=0.17.1,!=0.17.2,>=0.14.0 in d:\\program\\entry_to_ds\\test\\lib\\site-packages (from jsonschema>=2.6->nbformat->notebook>=4.2->jupyter-tabnine) (0.19.3)\n",
      "Requirement already satisfied: anyio>=3.1.0 in d:\\program\\entry_to_ds\\test\\lib\\site-packages (from jupyter-server>=1.8->nbclassic>=0.4.7->notebook>=4.2->jupyter-tabnine) (3.6.2)\n",
      "Requirement already satisfied: jupyter-events>=0.4.0 in d:\\program\\entry_to_ds\\test\\lib\\site-packages (from jupyter-server>=1.8->nbclassic>=0.4.7->notebook>=4.2->jupyter-tabnine) (0.6.3)\n",
      "Requirement already satisfied: jupyter-server-terminals in d:\\program\\entry_to_ds\\test\\lib\\site-packages (from jupyter-server>=1.8->nbclassic>=0.4.7->notebook>=4.2->jupyter-tabnine) (0.4.4)\n",
      "Requirement already satisfied: websocket-client in d:\\program\\entry_to_ds\\test\\lib\\site-packages (from jupyter-server>=1.8->nbclassic>=0.4.7->notebook>=4.2->jupyter-tabnine) (1.5.2)\n",
      "Requirement already satisfied: cffi>=1.0.1 in d:\\program\\entry_to_ds\\test\\lib\\site-packages (from argon2-cffi-bindings->argon2-cffi->notebook>=4.2->jupyter-tabnine) (1.15.1)\n",
      "Requirement already satisfied: idna>=2.8 in d:\\program\\entry_to_ds\\test\\lib\\site-packages (from anyio>=3.1.0->jupyter-server>=1.8->nbclassic>=0.4.7->notebook>=4.2->jupyter-tabnine) (3.4)\n",
      "Requirement already satisfied: sniffio>=1.1 in d:\\program\\entry_to_ds\\test\\lib\\site-packages (from anyio>=3.1.0->jupyter-server>=1.8->nbclassic>=0.4.7->notebook>=4.2->jupyter-tabnine) (1.3.0)\n",
      "Requirement already satisfied: pycparser in d:\\program\\entry_to_ds\\test\\lib\\site-packages (from cffi>=1.0.1->argon2-cffi-bindings->argon2-cffi->notebook>=4.2->jupyter-tabnine) (2.21)\n",
      "Requirement already satisfied: python-json-logger>=2.0.4 in d:\\program\\entry_to_ds\\test\\lib\\site-packages (from jupyter-events>=0.4.0->jupyter-server>=1.8->nbclassic>=0.4.7->notebook>=4.2->jupyter-tabnine) (2.0.7)\n",
      "Requirement already satisfied: pyyaml>=5.3 in d:\\program\\entry_to_ds\\test\\lib\\site-packages (from jupyter-events>=0.4.0->jupyter-server>=1.8->nbclassic>=0.4.7->notebook>=4.2->jupyter-tabnine) (6.0)\n",
      "Requirement already satisfied: rfc3339-validator in d:\\program\\entry_to_ds\\test\\lib\\site-packages (from jupyter-events>=0.4.0->jupyter-server>=1.8->nbclassic>=0.4.7->notebook>=4.2->jupyter-tabnine) (0.1.4)\n",
      "Requirement already satisfied: rfc3986-validator>=0.1.1 in d:\\program\\entry_to_ds\\test\\lib\\site-packages (from jupyter-events>=0.4.0->jupyter-server>=1.8->nbclassic>=0.4.7->notebook>=4.2->jupyter-tabnine) (0.1.1)\n",
      "Requirement already satisfied: fqdn in d:\\program\\entry_to_ds\\test\\lib\\site-packages (from jsonschema>=2.6->nbformat->notebook>=4.2->jupyter-tabnine) (1.5.1)\n",
      "Requirement already satisfied: isoduration in d:\\program\\entry_to_ds\\test\\lib\\site-packages (from jsonschema>=2.6->nbformat->notebook>=4.2->jupyter-tabnine) (20.11.0)\n",
      "Requirement already satisfied: jsonpointer>1.13 in d:\\program\\entry_to_ds\\test\\lib\\site-packages (from jsonschema>=2.6->nbformat->notebook>=4.2->jupyter-tabnine) (2.3)\n",
      "Requirement already satisfied: uri-template in d:\\program\\entry_to_ds\\test\\lib\\site-packages (from jsonschema>=2.6->nbformat->notebook>=4.2->jupyter-tabnine) (1.2.0)\n",
      "Requirement already satisfied: webcolors>=1.11 in d:\\program\\entry_to_ds\\test\\lib\\site-packages (from jsonschema>=2.6->nbformat->notebook>=4.2->jupyter-tabnine) (1.13)\n",
      "Requirement already satisfied: arrow>=0.15.0 in d:\\program\\entry_to_ds\\test\\lib\\site-packages (from isoduration->jsonschema>=2.6->nbformat->notebook>=4.2->jupyter-tabnine) (1.2.3)\n",
      "Installing collected packages: jupyter-tabnine\n",
      "Successfully installed jupyter-tabnine-1.2.3\n"
     ]
    }
   ],
   "source": [
    "pip install jupyter-tabnine "
   ]
  },
  {
   "cell_type": "code",
   "execution_count": 10,
   "id": "dfd6e762",
   "metadata": {},
   "outputs": [
    {
     "ename": "SyntaxError",
     "evalue": "invalid syntax (3316486804.py, line 1)",
     "output_type": "error",
     "traceback": [
      "\u001b[1;36m  Cell \u001b[1;32mIn[10], line 1\u001b[1;36m\u001b[0m\n\u001b[1;33m    jupyter nbextension install --py jupyter_tabnine --user\u001b[0m\n\u001b[1;37m            ^\u001b[0m\n\u001b[1;31mSyntaxError\u001b[0m\u001b[1;31m:\u001b[0m invalid syntax\n"
     ]
    }
   ],
   "source": [
    "jupyter nbextension install --py jupyter_tabnine --user"
   ]
  },
  {
   "cell_type": "code",
   "execution_count": 11,
   "id": "f844c8de",
   "metadata": {},
   "outputs": [
    {
     "ename": "SyntaxError",
     "evalue": "invalid syntax (2591429129.py, line 1)",
     "output_type": "error",
     "traceback": [
      "\u001b[1;36m  Cell \u001b[1;32mIn[11], line 1\u001b[1;36m\u001b[0m\n\u001b[1;33m    jupyter nbextension enable --py jupyter_tabnine --user\u001b[0m\n\u001b[1;37m            ^\u001b[0m\n\u001b[1;31mSyntaxError\u001b[0m\u001b[1;31m:\u001b[0m invalid syntax\n"
     ]
    }
   ],
   "source": [
    "jupyter nbextension enable --py jupyter_tabnine --user"
   ]
  },
  {
   "cell_type": "code",
   "execution_count": 1,
   "id": "374636cf",
   "metadata": {},
   "outputs": [
    {
     "name": "stdout",
     "output_type": "stream",
     "text": [
      "Requirement already satisfied: matplotlib in d:\\program\\entry_to_ds\\test\\lib\\site-packages (3.7.1)Note: you may need to restart the kernel to use updated packages.\n"
     ]
    },
    {
     "name": "stderr",
     "output_type": "stream",
     "text": [
      "\n",
      "[notice] A new release of pip available: 22.3.1 -> 23.1.2\n",
      "[notice] To update, run: python.exe -m pip install --upgrade pip\n"
     ]
    },
    {
     "name": "stdout",
     "output_type": "stream",
     "text": [
      "\n",
      "Requirement already satisfied: contourpy>=1.0.1 in d:\\program\\entry_to_ds\\test\\lib\\site-packages (from matplotlib) (1.0.7)\n",
      "Requirement already satisfied: cycler>=0.10 in d:\\program\\entry_to_ds\\test\\lib\\site-packages (from matplotlib) (0.11.0)\n",
      "Requirement already satisfied: fonttools>=4.22.0 in d:\\program\\entry_to_ds\\test\\lib\\site-packages (from matplotlib) (4.39.4)\n",
      "Requirement already satisfied: kiwisolver>=1.0.1 in d:\\program\\entry_to_ds\\test\\lib\\site-packages (from matplotlib) (1.4.4)\n",
      "Requirement already satisfied: numpy>=1.20 in d:\\program\\entry_to_ds\\test\\lib\\site-packages (from matplotlib) (1.24.3)\n",
      "Requirement already satisfied: packaging>=20.0 in d:\\program\\entry_to_ds\\test\\lib\\site-packages (from matplotlib) (23.1)\n",
      "Requirement already satisfied: pillow>=6.2.0 in d:\\program\\entry_to_ds\\test\\lib\\site-packages (from matplotlib) (9.5.0)\n",
      "Requirement already satisfied: pyparsing>=2.3.1 in d:\\program\\entry_to_ds\\test\\lib\\site-packages (from matplotlib) (3.0.9)\n",
      "Requirement already satisfied: python-dateutil>=2.7 in d:\\program\\entry_to_ds\\test\\lib\\site-packages (from matplotlib) (2.8.2)\n",
      "Requirement already satisfied: six>=1.5 in d:\\program\\entry_to_ds\\test\\lib\\site-packages (from python-dateutil>=2.7->matplotlib) (1.16.0)\n"
     ]
    }
   ],
   "source": [
    "pip install matplotlib"
   ]
  },
  {
   "cell_type": "code",
   "execution_count": 2,
   "id": "b1837d6f",
   "metadata": {},
   "outputs": [
    {
     "name": "stdout",
     "output_type": "stream",
     "text": [
      "Note: you may need to restart the kernel to use updated packages.\n"
     ]
    },
    {
     "name": "stderr",
     "output_type": "stream",
     "text": [
      "ERROR: Could not find a version that satisfies the requirement jupytertheme (from versions: none)\n",
      "ERROR: No matching distribution found for jupytertheme\n",
      "\n",
      "[notice] A new release of pip available: 22.3.1 -> 23.1.2\n",
      "[notice] To update, run: python.exe -m pip install --upgrade pip\n"
     ]
    }
   ],
   "source": [
    "pip install jupytertheme"
   ]
  },
  {
   "cell_type": "code",
   "execution_count": 5,
   "id": "720264c4",
   "metadata": {},
   "outputs": [
    {
     "name": "stderr",
     "output_type": "stream",
     "text": [
      "'jt' is not recognized as an internal or external command,\n",
      "operable program or batch file.\n"
     ]
    }
   ],
   "source": [
    "!jt -t onedork"
   ]
  },
  {
   "cell_type": "code",
   "execution_count": 3,
   "id": "c9d095a4",
   "metadata": {},
   "outputs": [
    {
     "name": "stderr",
     "output_type": "stream",
     "text": [
      "'jt' is not recognized as an internal or external command,\n",
      "operable program or batch file.\n"
     ]
    }
   ],
   "source": [
    "!jt -"
   ]
  },
  {
   "cell_type": "code",
   "execution_count": 4,
   "id": "0e55144b",
   "metadata": {},
   "outputs": [
    {
     "ename": "SyntaxError",
     "evalue": "invalid syntax (1480880446.py, line 1)",
     "output_type": "error",
     "traceback": [
      "\u001b[1;36m  Cell \u001b[1;32mIn[4], line 1\u001b[1;36m\u001b[0m\n\u001b[1;33m    jt -\u001b[0m\n\u001b[1;37m        ^\u001b[0m\n\u001b[1;31mSyntaxError\u001b[0m\u001b[1;31m:\u001b[0m invalid syntax\n"
     ]
    }
   ],
   "source": [
    "jt -"
   ]
  },
  {
   "cell_type": "code",
   "execution_count": 7,
   "id": "4d60656c",
   "metadata": {},
   "outputs": [
    {
     "name": "stderr",
     "output_type": "stream",
     "text": [
      "'jt' is not recognized as an internal or external command,\n",
      "operable program or batch file.\n"
     ]
    }
   ],
   "source": [
    "!jt -l"
   ]
  },
  {
   "cell_type": "code",
   "execution_count": null,
   "id": "9de79678",
   "metadata": {},
   "outputs": [],
   "source": []
  }
 ],
 "metadata": {
  "kernelspec": {
   "display_name": "test",
   "language": "python",
   "name": "test"
  },
  "language_info": {
   "codemirror_mode": {
    "name": "ipython",
    "version": 3
   },
   "file_extension": ".py",
   "mimetype": "text/x-python",
   "name": "python",
   "nbconvert_exporter": "python",
   "pygments_lexer": "ipython3",
   "version": "3.11.2"
  }
 },
 "nbformat": 4,
 "nbformat_minor": 5
}
