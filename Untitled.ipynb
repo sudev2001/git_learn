{
 "cells": [
  {
   "cell_type": "code",
   "execution_count": 20,
   "id": "7ee0ac80",
   "metadata": {},
   "outputs": [],
   "source": [
    "import numpy as np\n",
    "import pandas as pd\n",
    "import matplotlib.pyplot as plt\n",
    "import seaborn as sns"
   ]
  },
  {
   "cell_type": "code",
   "execution_count": 19,
   "id": "3e8ebb64",
   "metadata": {},
   "outputs": [
    {
     "data": {
      "text/plain": [
       "array([[1, 1, 1],\n",
       "       [1, 1, 1],\n",
       "       [1, 1, 1]], dtype=int64)"
      ]
     },
     "execution_count": 19,
     "metadata": {},
     "output_type": "execute_result"
    }
   ],
   "source": [
    "a1 = np.ones((3,3),dtype=np.int64)\n",
    "a1"
   ]
  },
  {
   "cell_type": "code",
   "execution_count": 3,
   "id": "f9f5daf3",
   "metadata": {},
   "outputs": [
    {
     "data": {
      "text/plain": [
       "array([[0, 0, 0],\n",
       "       [0, 0, 0],\n",
       "       [0, 0, 0]])"
      ]
     },
     "execution_count": 3,
     "metadata": {},
     "output_type": "execute_result"
    }
   ],
   "source": [
    "a2 = np.zeros((3,3), dtype= np.int32)\n",
    "a2"
   ]
  },
  {
   "cell_type": "code",
   "execution_count": 4,
   "id": "1216df09",
   "metadata": {},
   "outputs": [
    {
     "data": {
      "text/plain": [
       "4"
      ]
     },
     "execution_count": 4,
     "metadata": {},
     "output_type": "execute_result"
    }
   ],
   "source": [
    "a2.itemsize"
   ]
  },
  {
   "cell_type": "code",
   "execution_count": 5,
   "id": "06a9b0cd",
   "metadata": {},
   "outputs": [
    {
     "data": {
      "text/plain": [
       "array([[ 0,  1,  2],\n",
       "       [ 3,  4,  5],\n",
       "       [ 6,  7,  8],\n",
       "       [ 9, 10, 11]])"
      ]
     },
     "execution_count": 5,
     "metadata": {},
     "output_type": "execute_result"
    }
   ],
   "source": [
    "a3 = np.arange(12).reshape(4,3)\n",
    "a3"
   ]
  },
  {
   "cell_type": "code",
   "execution_count": 6,
   "id": "6cc8bc8e",
   "metadata": {},
   "outputs": [
    {
     "data": {
      "text/plain": [
       "array([1. , 1.5, 2. , 2.5, 3. ])"
      ]
     },
     "execution_count": 6,
     "metadata": {},
     "output_type": "execute_result"
    }
   ],
   "source": [
    "a4=np.linspace(1,3,5)\n",
    "a4"
   ]
  },
  {
   "cell_type": "code",
   "execution_count": 7,
   "id": "325f1346",
   "metadata": {},
   "outputs": [
    {
     "data": {
      "text/plain": [
       "array([[         0,          0, 2104911648],\n",
       "       [       522, 2104911072,        522],\n",
       "       [2104911520,        522,          0]])"
      ]
     },
     "execution_count": 7,
     "metadata": {},
     "output_type": "execute_result"
    }
   ],
   "source": [
    "a1=np.empty((3,3) , dtype = int)\n",
    "a1"
   ]
  },
  {
   "cell_type": "code",
   "execution_count": 8,
   "id": "c8bdbec4",
   "metadata": {},
   "outputs": [
    {
     "data": {
      "text/plain": [
       "array([[2, 3],\n",
       "       [4, 5]])"
      ]
     },
     "execution_count": 8,
     "metadata": {},
     "output_type": "execute_result"
    }
   ],
   "source": [
    "a1=np.array([[1,2],[3,4]])\n",
    "ones = np.ones((1,1),dtype=int)\n",
    "a1 + ones"
   ]
  },
  {
   "cell_type": "code",
   "execution_count": 9,
   "id": "1ef861fd",
   "metadata": {},
   "outputs": [
    {
     "data": {
      "text/plain": [
       "array([[7, 9, 2, 2],\n",
       "       [7, 8, 5, 1],\n",
       "       [8, 5, 1, 1],\n",
       "       [4, 6, 4, 8]], dtype=int64)"
      ]
     },
     "execution_count": 9,
     "metadata": {},
     "output_type": "execute_result"
    }
   ],
   "source": [
    "rnd = np.random.default_rng(10)\n",
    "a1 = rnd.integers(10,size=(4,4))\n",
    "a1 "
   ]
  },
  {
   "cell_type": "code",
   "execution_count": 10,
   "id": "b1b217fe",
   "metadata": {},
   "outputs": [
    {
     "name": "stdout",
     "output_type": "stream",
     "text": [
      "old [7 9 2 2 7 8 5 1 8 5 1 1 4 6 4 8]\n",
      "new-a2 [1 9 2 2 7 8 5 1 8 5 1 1 4 6 4 8]\n",
      "a1 [[7 9 2 2]\n",
      " [7 8 5 1]\n",
      " [8 5 1 1]\n",
      " [4 6 4 8]]\n",
      "new-a3 [3 9 2 2 7 8 5 1 8 5 1 1 4 6 4 8]\n",
      "a1 [[3 9 2 2]\n",
      " [7 8 5 1]\n",
      " [8 5 1 1]\n",
      " [4 6 4 8]]\n"
     ]
    }
   ],
   "source": [
    "a2 = a1.flatten()\n",
    "a3 = a1.ravel()\n",
    "print(\"old\",a2)\n",
    "a2[0] = 1\n",
    "print(\"new-a2\",a2)\n",
    "print(\"a1\",a1)\n",
    "a3[0] = 3\n",
    "print(\"new-a3\",a3)\n",
    "print(\"a1\",a1)"
   ]
  },
  {
   "cell_type": "code",
   "execution_count": 11,
   "id": "b3b6d8e1",
   "metadata": {},
   "outputs": [
    {
     "data": {
      "text/plain": [
       "array([[25895968444448860, 23925768161198147, 32370111954616435,\n",
       "        19422129880891484],\n",
       "       [29555070129143890, 29273895802044528, 31525592535793775,\n",
       "        29555310648557682],\n",
       "       [28147905699577964, 32932988893659237, 29273792722501740,\n",
       "        31244220638625897],\n",
       "       [32369819898151026, 32651548277080177, 31244177684365413,\n",
       "        27303545194807413]], dtype=int64)"
      ]
     },
     "execution_count": 11,
     "metadata": {},
     "output_type": "execute_result"
    }
   ],
   "source": [
    "a4 = np.empty_like(a1)\n",
    "a4"
   ]
  },
  {
   "cell_type": "code",
   "execution_count": 12,
   "id": "415808e9",
   "metadata": {},
   "outputs": [
    {
     "data": {
      "text/plain": [
       "array([0. , 0.5, 1. , 1.5, 2. ])"
      ]
     },
     "execution_count": 12,
     "metadata": {},
     "output_type": "execute_result"
    }
   ],
   "source": [
    "a2 = np.linspace(0,2,5)\n",
    "a2"
   ]
  },
  {
   "cell_type": "code",
   "execution_count": 13,
   "id": "a3505eec",
   "metadata": {},
   "outputs": [
    {
     "data": {
      "text/plain": [
       "1.0"
      ]
     },
     "execution_count": 13,
     "metadata": {},
     "output_type": "execute_result"
    }
   ],
   "source": [
    "np.mean(a2)"
   ]
  },
  {
   "cell_type": "code",
   "execution_count": 14,
   "id": "600f8878",
   "metadata": {},
   "outputs": [
    {
     "data": {
      "text/plain": [
       "array([[15., 15., 15.],\n",
       "       [ 6.,  6.,  6.],\n",
       "       [24., 24., 24.],\n",
       "       [33., 33., 33.]])"
      ]
     },
     "execution_count": 14,
     "metadata": {},
     "output_type": "execute_result"
    }
   ],
   "source": [
    "a1 = np.array([[4,5,6],[1,2,3],[7,8,9],[10,11,12]])\n",
    "a2 = np.ones((3,3))\n",
    "a3 = a1.dot(a2)\n",
    "a3"
   ]
  },
  {
   "cell_type": "code",
   "execution_count": 15,
   "id": "74552239",
   "metadata": {},
   "outputs": [
    {
     "name": "stdout",
     "output_type": "stream",
     "text": [
      "[[15. 15.]\n",
      " [15.  6.]\n",
      " [ 6.  6.]\n",
      " [24. 24.]\n",
      " [24. 33.]\n",
      " [33. 33.]]\n",
      "[[ 15.  15.]\n",
      " [ 30.  21.]\n",
      " [ 36.  27.]\n",
      " [ 60.  51.]\n",
      " [ 84.  84.]\n",
      " [117. 117.]]\n",
      "[[15. 30.]\n",
      " [15. 21.]\n",
      " [ 6. 12.]\n",
      " [24. 48.]\n",
      " [24. 57.]\n",
      " [33. 66.]]\n"
     ]
    }
   ],
   "source": [
    "a3 = a3.reshape((6,2))\n",
    "a3\n",
    "s1 = a3.cumsum(axis=0)\n",
    "s2 = a3.cumsum(axis=1)\n",
    "print(a3)\n",
    "print(s1)\n",
    "print(s2)"
   ]
  },
  {
   "cell_type": "code",
   "execution_count": 16,
   "id": "e0f97eff",
   "metadata": {},
   "outputs": [
    {
     "name": "stdout",
     "output_type": "stream",
     "text": [
      "[[ 4  5  6]\n",
      " [ 1  2  3]\n",
      " [ 7  8  9]\n",
      " [10 11 12]]\n",
      "[[ 4  5  6]\n",
      " [ 1  2  3]\n",
      " [ 7  8  9]\n",
      " [ 3 11 12]]\n"
     ]
    },
    {
     "data": {
      "text/plain": [
       "array([ True,  True,  True])"
      ]
     },
     "execution_count": 16,
     "metadata": {},
     "output_type": "execute_result"
    }
   ],
   "source": [
    "print(a1)\n",
    "a1[3][0]=3\n",
    "print(a1)\n",
    "a1.all(axis=0)"
   ]
  },
  {
   "cell_type": "code",
   "execution_count": 17,
   "id": "e4934a49",
   "metadata": {},
   "outputs": [
    {
     "name": "stdout",
     "output_type": "stream",
     "text": [
      "[ 4  5  6  1  2  3  7  8  9  3 11 12]\n"
     ]
    },
    {
     "data": {
      "text/plain": [
       "array([ 1,  2,  3,  3,  4,  5,  6,  7,  8,  9, 11, 12])"
      ]
     },
     "execution_count": 17,
     "metadata": {},
     "output_type": "execute_result"
    }
   ],
   "source": [
    "a2 = a1.flatten()\n",
    "print(a2)\n",
    "np.sort(a2,kind='quicksort')\n"
   ]
  },
  {
   "cell_type": "code",
   "execution_count": 21,
   "id": "7729d9eb",
   "metadata": {},
   "outputs": [
    {
     "data": {
      "text/html": [
       "<div>\n",
       "<style scoped>\n",
       "    .dataframe tbody tr th:only-of-type {\n",
       "        vertical-align: middle;\n",
       "    }\n",
       "\n",
       "    .dataframe tbody tr th {\n",
       "        vertical-align: top;\n",
       "    }\n",
       "\n",
       "    .dataframe thead th {\n",
       "        text-align: right;\n",
       "    }\n",
       "</style>\n",
       "<table border=\"1\" class=\"dataframe\">\n",
       "  <thead>\n",
       "    <tr style=\"text-align: right;\">\n",
       "      <th></th>\n",
       "      <th>Values</th>\n",
       "    </tr>\n",
       "  </thead>\n",
       "  <tbody>\n",
       "    <tr>\n",
       "      <th>0</th>\n",
       "      <td>-1.003157</td>\n",
       "    </tr>\n",
       "    <tr>\n",
       "      <th>1</th>\n",
       "      <td>-0.546245</td>\n",
       "    </tr>\n",
       "    <tr>\n",
       "      <th>2</th>\n",
       "      <td>0.190085</td>\n",
       "    </tr>\n",
       "    <tr>\n",
       "      <th>3</th>\n",
       "      <td>1.123371</td>\n",
       "    </tr>\n",
       "    <tr>\n",
       "      <th>4</th>\n",
       "      <td>-0.639044</td>\n",
       "    </tr>\n",
       "    <tr>\n",
       "      <th>...</th>\n",
       "      <td>...</td>\n",
       "    </tr>\n",
       "    <tr>\n",
       "      <th>995</th>\n",
       "      <td>0.252090</td>\n",
       "    </tr>\n",
       "    <tr>\n",
       "      <th>996</th>\n",
       "      <td>-0.016730</td>\n",
       "    </tr>\n",
       "    <tr>\n",
       "      <th>997</th>\n",
       "      <td>-0.581404</td>\n",
       "    </tr>\n",
       "    <tr>\n",
       "      <th>998</th>\n",
       "      <td>0.534836</td>\n",
       "    </tr>\n",
       "    <tr>\n",
       "      <th>999</th>\n",
       "      <td>0.924284</td>\n",
       "    </tr>\n",
       "  </tbody>\n",
       "</table>\n",
       "<p>1000 rows × 1 columns</p>\n",
       "</div>"
      ],
      "text/plain": [
       "       Values\n",
       "0   -1.003157\n",
       "1   -0.546245\n",
       "2    0.190085\n",
       "3    1.123371\n",
       "4   -0.639044\n",
       "..        ...\n",
       "995  0.252090\n",
       "996 -0.016730\n",
       "997 -0.581404\n",
       "998  0.534836\n",
       "999  0.924284\n",
       "\n",
       "[1000 rows x 1 columns]"
      ]
     },
     "execution_count": 21,
     "metadata": {},
     "output_type": "execute_result"
    }
   ],
   "source": [
    "mean = 0\n",
    "std = 1\n",
    "size = 1000\n",
    "data = np.random.normal(mean,std,size)\n",
    "df= pd.DataFrame(data , columns =['Values'])\n",
    "df"
   ]
  },
  {
   "cell_type": "code",
   "execution_count": 25,
   "id": "cb0297dc",
   "metadata": {},
   "outputs": [
    {
     "data": {
      "image/png": "[encoded data removed]",
      "text/plain": [
       "<Figure size 1000x600 with 1 Axes>"
      ]
     },
     "metadata": {},
     "output_type": "display_data"
    }
   ],
   "source": [
    "plt.figure(figsize=(10, 6))  # Adjust the figure size if needed\n",
    "sns.histplot(data=df, x='Values', kde=True)  # Plot histogram with KDE curve\n",
    "plt.title('Normal Distribution')\n",
    "plt.xlabel('Value')\n",
    "plt.ylabel('Frequency')\n",
    "plt.show()"
   ]
  },
  {
   "cell_type": "code",
   "execution_count": null,
   "id": "40620ea6",
   "metadata": {},
   "outputs": [],
   "source": []
  }
 ],
 "metadata": {
  "kernelspec": {
   "display_name": "test",
   "language": "python",
   "name": "test"
  },
  "language_info": {
   "codemirror_mode": {
    "name": "ipython",
    "version": 3
   },
   "file_extension": ".py",
   "mimetype": "text/x-python",
   "name": "python",
   "nbconvert_exporter": "python",
   "pygments_lexer": "ipython3",
   "version": "3.11.2"
  }
 },
 "nbformat": 4,
 "nbformat_minor": 5
}
